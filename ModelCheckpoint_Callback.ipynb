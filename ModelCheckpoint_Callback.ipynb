{
  "nbformat": 4,
  "nbformat_minor": 0,
  "metadata": {
    "colab": {
      "name": "ModelCheckpoint_Callback.ipynb",
      "provenance": [],
      "authorship_tag": "ABX9TyMG7/4SUQjIb7IzZhS6Zbjt",
      "include_colab_link": true
    },
    "kernelspec": {
      "name": "python3",
      "display_name": "Python 3"
    }
  },
  "cells": [
    {
      "cell_type": "markdown",
      "metadata": {
        "id": "view-in-github",
        "colab_type": "text"
      },
      "source": [
        "<a href=\"https://colab.research.google.com/github/jvishnuvardhan/Medium_Articles/blob/master/ModelCheckpoint_Callback.ipynb\" target=\"_parent\"><img src=\"https://colab.research.google.com/assets/colab-badge.svg\" alt=\"Open In Colab\"/></a>"
      ]
    },
    {
      "cell_type": "code",
      "metadata": {
        "id": "nTk-kvBz7SbV"
      },
      "source": [
        "# Import modules\n",
        "import tensorflow as tf\n",
        "from tensorflow import keras\n",
        "import os, datetime\n",
        "\n",
        "Epochs = 10\n",
        "# Load data\n",
        "mnist = tf.keras.datasets.mnist\n",
        "\n",
        "# Split the data to train and test\n",
        "(x_train, y_train),(x_test, y_test) = mnist.load_data()\n",
        "\n",
        "# Process the data\n",
        "x_train, x_test = x_train / 255.0, x_test / 255.0\n",
        "\n",
        "# Define model\n",
        "def create_model():\n",
        "  model = tf.keras.models.Sequential([\n",
        "    tf.keras.layers.Flatten(input_shape=(28, 28)),\n",
        "    tf.keras.layers.Dense(512, activation='relu'),\n",
        "    tf.keras.layers.Dropout(0.2),\n",
        "    tf.keras.layers.Dense(10, activation='softmax')\n",
        "    ])\n",
        "  \n",
        "  # Compile the model\n",
        "  model.compile(optimizer='adam',\n",
        "              loss='sparse_categorical_crossentropy',\n",
        "              metrics=['accuracy']) #,experimental_steps_per_execution=10\n",
        "  return model\n",
        "\n",
        "# Create a basic model instance\n",
        "model=create_model()\n",
        "\n"
      ],
      "execution_count": 10,
      "outputs": []
    },
    {
      "cell_type": "code",
      "metadata": {
        "id": "2sro7A-c_EFh",
        "outputId": "57408d99-4879-478a-9ab6-cbb71875305c",
        "colab": {
          "base_uri": "https://localhost:8080/"
        }
      },
      "source": [
        "# Define ModelCheckpoint callback (replace checkpoint after each epoch)\n",
        "checkpoint_path_1 = \"training_1/cp.ckpt\"\n",
        "checkpoint_dir_1 = os.path.dirname(checkpoint_path_1)\n",
        "\n",
        "# Create a callback that saves the model's weights\n",
        "checkpoint_callback_1 = tf.keras.callbacks.ModelCheckpoint(\n",
        "   checkpoint_path_1, verbose=1, save_weights_only=True,\n",
        "   # Save weights, every epoch.\n",
        "   save_freq='epoch')\n",
        "\n",
        "# Train the model\n",
        "model.fit(x_train, y_train, epochs=Epochs,validation_data=(x_test, y_test), callbacks=[checkpoint_callback_1])"
      ],
      "execution_count": 12,
      "outputs": [
        {
          "output_type": "stream",
          "text": [
            "Epoch 1/10\n",
            "1870/1875 [============================>.] - ETA: 0s - loss: 0.2196 - accuracy: 0.9352\n",
            "Epoch 00001: saving model to training_1/cp.ckpt\n",
            "1875/1875 [==============================] - 7s 4ms/step - loss: 0.2194 - accuracy: 0.9352 - val_loss: 0.1041 - val_accuracy: 0.9685\n",
            "Epoch 2/10\n",
            "1871/1875 [============================>.] - ETA: 0s - loss: 0.0959 - accuracy: 0.9707\n",
            "Epoch 00002: saving model to training_1/cp.ckpt\n",
            "1875/1875 [==============================] - 6s 3ms/step - loss: 0.0959 - accuracy: 0.9707 - val_loss: 0.0872 - val_accuracy: 0.9730\n",
            "Epoch 3/10\n",
            "1866/1875 [============================>.] - ETA: 0s - loss: 0.0677 - accuracy: 0.9788\n",
            "Epoch 00003: saving model to training_1/cp.ckpt\n",
            "1875/1875 [==============================] - 7s 3ms/step - loss: 0.0676 - accuracy: 0.9789 - val_loss: 0.0726 - val_accuracy: 0.9767\n",
            "Epoch 4/10\n",
            "1863/1875 [============================>.] - ETA: 0s - loss: 0.0522 - accuracy: 0.9827\n",
            "Epoch 00004: saving model to training_1/cp.ckpt\n",
            "1875/1875 [==============================] - 7s 3ms/step - loss: 0.0523 - accuracy: 0.9827 - val_loss: 0.0736 - val_accuracy: 0.9783\n",
            "Epoch 5/10\n",
            "1862/1875 [============================>.] - ETA: 0s - loss: 0.0444 - accuracy: 0.9852\n",
            "Epoch 00005: saving model to training_1/cp.ckpt\n",
            "1875/1875 [==============================] - 7s 4ms/step - loss: 0.0444 - accuracy: 0.9851 - val_loss: 0.0689 - val_accuracy: 0.9787\n",
            "Epoch 6/10\n",
            "1861/1875 [============================>.] - ETA: 0s - loss: 0.0347 - accuracy: 0.9887\n",
            "Epoch 00006: saving model to training_1/cp.ckpt\n",
            "1875/1875 [==============================] - 7s 3ms/step - loss: 0.0350 - accuracy: 0.9886 - val_loss: 0.0678 - val_accuracy: 0.9802\n",
            "Epoch 7/10\n",
            "1872/1875 [============================>.] - ETA: 0s - loss: 0.0310 - accuracy: 0.9897\n",
            "Epoch 00007: saving model to training_1/cp.ckpt\n",
            "1875/1875 [==============================] - 7s 3ms/step - loss: 0.0309 - accuracy: 0.9898 - val_loss: 0.0642 - val_accuracy: 0.9820\n",
            "Epoch 8/10\n",
            "1871/1875 [============================>.] - ETA: 0s - loss: 0.0280 - accuracy: 0.9912\n",
            "Epoch 00008: saving model to training_1/cp.ckpt\n",
            "1875/1875 [==============================] - 6s 3ms/step - loss: 0.0280 - accuracy: 0.9912 - val_loss: 0.0747 - val_accuracy: 0.9806\n",
            "Epoch 9/10\n",
            "1867/1875 [============================>.] - ETA: 0s - loss: 0.0241 - accuracy: 0.9920\n",
            "Epoch 00009: saving model to training_1/cp.ckpt\n",
            "1875/1875 [==============================] - 7s 3ms/step - loss: 0.0240 - accuracy: 0.9920 - val_loss: 0.0724 - val_accuracy: 0.9812\n",
            "Epoch 10/10\n",
            "1875/1875 [==============================] - ETA: 0s - loss: 0.0217 - accuracy: 0.9927\n",
            "Epoch 00010: saving model to training_1/cp.ckpt\n",
            "1875/1875 [==============================] - 7s 4ms/step - loss: 0.0217 - accuracy: 0.9927 - val_loss: 0.0731 - val_accuracy: 0.9820\n"
          ],
          "name": "stdout"
        },
        {
          "output_type": "execute_result",
          "data": {
            "text/plain": [
              "<tensorflow.python.keras.callbacks.History at 0x7f0139214c88>"
            ]
          },
          "metadata": {
            "tags": []
          },
          "execution_count": 12
        }
      ]
    },
    {
      "cell_type": "code",
      "metadata": {
        "id": "ZhhsD9uaclxs",
        "outputId": "fc6acfbc-f5bc-4101-998d-31b91f1c3b95",
        "colab": {
          "base_uri": "https://localhost:8080/"
        }
      },
      "source": [
        "# Create a basic model instance\n",
        "model_1 = create_model()\n",
        "\n",
        "# Loads the weights\n",
        "model_1.load_weights(checkpoint_path_1)\n",
        "\n",
        "# Re-evaluate the model\n",
        "loss,acc = model_1.evaluate(x_test,  y_test, verbose=2)\n",
        "print(\"Restored model, accuracy: {:5.2f}%\".format(100*acc))"
      ],
      "execution_count": 13,
      "outputs": [
        {
          "output_type": "stream",
          "text": [
            "313/313 - 0s - loss: 0.0731 - accuracy: 0.9820\n",
            "Restored model, accuracy: 98.20%\n"
          ],
          "name": "stdout"
        }
      ]
    },
    {
      "cell_type": "code",
      "metadata": {
        "id": "BlPf4LBBiP5C",
        "outputId": "dc2dacfe-cae2-43fa-8805-cf188b3997c3",
        "colab": {
          "base_uri": "https://localhost:8080/"
        }
      },
      "source": [
        "# Define ModelCheckpoint callback (replace checkpoint after each epoch)\n",
        "checkpoint_path_2 = \"training_2/cp-{epoch:04d}.ckpt\"\n",
        "# checkpoint_path_2 = \"training_2/cp-{epoch:04d}-val_loss-{val_loss:.2f}.ckpt\"\n",
        "checkpoint_dir_2 = os.path.dirname(checkpoint_path_2)\n",
        "\n",
        "# Create a callback that saves the model's weights\n",
        "checkpoint_callback_2 = tf.keras.callbacks.ModelCheckpoint(\n",
        "   checkpoint_path_2, verbose=1, save_weights_only=True,\n",
        "   # Save weights, every epoch.\n",
        "   save_freq='epoch')\n",
        "\n",
        "# Train the model\n",
        "model.fit(x_train, y_train, epochs=Epochs,validation_data=(x_test, y_test), callbacks=[checkpoint_callback_2])"
      ],
      "execution_count": 14,
      "outputs": [
        {
          "output_type": "stream",
          "text": [
            "Epoch 1/10\n",
            "1866/1875 [============================>.] - ETA: 0s - loss: 0.0203 - accuracy: 0.9931\n",
            "Epoch 00001: saving model to training_2/cp-0001.ckpt\n",
            "1875/1875 [==============================] - 7s 4ms/step - loss: 0.0202 - accuracy: 0.9931 - val_loss: 0.0767 - val_accuracy: 0.9815\n",
            "Epoch 2/10\n",
            "1866/1875 [============================>.] - ETA: 0s - loss: 0.0178 - accuracy: 0.9937\n",
            "Epoch 00002: saving model to training_2/cp-0002.ckpt\n",
            "1875/1875 [==============================] - 7s 4ms/step - loss: 0.0177 - accuracy: 0.9937 - val_loss: 0.0798 - val_accuracy: 0.9807\n",
            "Epoch 3/10\n",
            "1866/1875 [============================>.] - ETA: 0s - loss: 0.0183 - accuracy: 0.9940\n",
            "Epoch 00003: saving model to training_2/cp-0003.ckpt\n",
            "1875/1875 [==============================] - 7s 4ms/step - loss: 0.0182 - accuracy: 0.9941 - val_loss: 0.0712 - val_accuracy: 0.9840\n",
            "Epoch 4/10\n",
            "1868/1875 [============================>.] - ETA: 0s - loss: 0.0174 - accuracy: 0.9941\n",
            "Epoch 00004: saving model to training_2/cp-0004.ckpt\n",
            "1875/1875 [==============================] - 7s 4ms/step - loss: 0.0173 - accuracy: 0.9941 - val_loss: 0.0788 - val_accuracy: 0.9837\n",
            "Epoch 5/10\n",
            "1867/1875 [============================>.] - ETA: 0s - loss: 0.0146 - accuracy: 0.9950\n",
            "Epoch 00005: saving model to training_2/cp-0005.ckpt\n",
            "1875/1875 [==============================] - 7s 4ms/step - loss: 0.0146 - accuracy: 0.9950 - val_loss: 0.0755 - val_accuracy: 0.9833\n",
            "Epoch 6/10\n",
            "1869/1875 [============================>.] - ETA: 0s - loss: 0.0150 - accuracy: 0.9951\n",
            "Epoch 00006: saving model to training_2/cp-0006.ckpt\n",
            "1875/1875 [==============================] - 7s 4ms/step - loss: 0.0150 - accuracy: 0.9951 - val_loss: 0.0841 - val_accuracy: 0.9831\n",
            "Epoch 7/10\n",
            "1860/1875 [============================>.] - ETA: 0s - loss: 0.0140 - accuracy: 0.9955\n",
            "Epoch 00007: saving model to training_2/cp-0007.ckpt\n",
            "1875/1875 [==============================] - 7s 4ms/step - loss: 0.0140 - accuracy: 0.9955 - val_loss: 0.0990 - val_accuracy: 0.9815\n",
            "Epoch 8/10\n",
            "1875/1875 [==============================] - ETA: 0s - loss: 0.0148 - accuracy: 0.9948\n",
            "Epoch 00008: saving model to training_2/cp-0008.ckpt\n",
            "1875/1875 [==============================] - 7s 4ms/step - loss: 0.0148 - accuracy: 0.9948 - val_loss: 0.0884 - val_accuracy: 0.9825\n",
            "Epoch 9/10\n",
            "1868/1875 [============================>.] - ETA: 0s - loss: 0.0155 - accuracy: 0.9949\n",
            "Epoch 00009: saving model to training_2/cp-0009.ckpt\n",
            "1875/1875 [==============================] - 7s 4ms/step - loss: 0.0155 - accuracy: 0.9949 - val_loss: 0.0877 - val_accuracy: 0.9837\n",
            "Epoch 10/10\n",
            "1868/1875 [============================>.] - ETA: 0s - loss: 0.0121 - accuracy: 0.9958\n",
            "Epoch 00010: saving model to training_2/cp-0010.ckpt\n",
            "1875/1875 [==============================] - 7s 4ms/step - loss: 0.0121 - accuracy: 0.9958 - val_loss: 0.1098 - val_accuracy: 0.9806\n"
          ],
          "name": "stdout"
        },
        {
          "output_type": "execute_result",
          "data": {
            "text/plain": [
              "<tensorflow.python.keras.callbacks.History at 0x7f0138944668>"
            ]
          },
          "metadata": {
            "tags": []
          },
          "execution_count": 14
        }
      ]
    },
    {
      "cell_type": "code",
      "metadata": {
        "id": "tMIyAGZhk7XM",
        "outputId": "8d6b6306-e77a-46db-a25d-8d7e0d155c79",
        "colab": {
          "base_uri": "https://localhost:8080/"
        }
      },
      "source": [
        "# Create a basic model instance\n",
        "model_2 = create_model()\n",
        "\n",
        "# access latest checkpoint\n",
        "latest = tf.train.latest_checkpoint(checkpoint_dir_2)\n",
        "\n",
        "# Loads the weights\n",
        "model_2.load_weights(latest)\n",
        "\n",
        "# Re-evaluate the model\n",
        "loss,acc = model_2.evaluate(x_test,  y_test, verbose=2)\n",
        "print(\"Restored model, accuracy: {:5.2f}%\".format(100*acc))"
      ],
      "execution_count": 15,
      "outputs": [
        {
          "output_type": "stream",
          "text": [
            "313/313 - 0s - loss: 0.1098 - accuracy: 0.9806\n",
            "Restored model, accuracy: 98.06%\n"
          ],
          "name": "stdout"
        }
      ]
    },
    {
      "cell_type": "code",
      "metadata": {
        "id": "DA9jrdIYrzM2",
        "outputId": "e1d4dd59-22ef-4ac2-ba69-588fabe49a24",
        "colab": {
          "base_uri": "https://localhost:8080/"
        }
      },
      "source": [
        "###### Checkpointing every 100th batch\n",
        "checkpoint_path_3 = \"training_3/ckpt-loss={loss:.4f}\"\n",
        "checkpoint_dir_3 = os.path.dirname(checkpoint_path_3)\n",
        "\n",
        "# Create a callback that saves the model's weights\n",
        "checkpoint_callback_3 = tf.keras.callbacks.ModelCheckpoint(\n",
        "   filepath=checkpoint_path_3, verbose=1, save_weights_only=True,\n",
        "   # Save weights, every epoch.\n",
        "   save_freq=100)\n",
        "\n",
        "# Train the model\n",
        "model.fit(x_train, y_train, epochs=1, validation_data=(x_test, y_test), callbacks=[checkpoint_callback_3])"
      ],
      "execution_count": 16,
      "outputs": [
        {
          "output_type": "stream",
          "text": [
            "  85/1875 [>.............................] - ETA: 5s - loss: 0.0139 - accuracy: 0.9934\n",
            "Epoch 00001: saving model to training_3/ckpt-loss=0.0148\n",
            " 193/1875 [==>...........................] - ETA: 5s - loss: 0.0112 - accuracy: 0.9950\n",
            "Epoch 00001: saving model to training_3/ckpt-loss=0.0114\n",
            " 299/1875 [===>..........................] - ETA: 5s - loss: 0.0110 - accuracy: 0.9952\n",
            "Epoch 00001: saving model to training_3/ckpt-loss=0.0110\n",
            " 388/1875 [=====>........................] - ETA: 4s - loss: 0.0113 - accuracy: 0.9950\n",
            "Epoch 00001: saving model to training_3/ckpt-loss=0.0110\n",
            " 493/1875 [======>.......................] - ETA: 4s - loss: 0.0107 - accuracy: 0.9954\n",
            "Epoch 00001: saving model to training_3/ckpt-loss=0.0107\n",
            " 591/1875 [========>.....................] - ETA: 4s - loss: 0.0102 - accuracy: 0.9958\n",
            "Epoch 00001: saving model to training_3/ckpt-loss=0.0102\n",
            " 693/1875 [==========>...................] - ETA: 4s - loss: 0.0101 - accuracy: 0.9959\n",
            "Epoch 00001: saving model to training_3/ckpt-loss=0.0100\n",
            " 787/1875 [===========>..................] - ETA: 3s - loss: 0.0109 - accuracy: 0.9958\n",
            "Epoch 00001: saving model to training_3/ckpt-loss=0.0112\n",
            " 891/1875 [=============>................] - ETA: 3s - loss: 0.0122 - accuracy: 0.9953\n",
            "Epoch 00001: saving model to training_3/ckpt-loss=0.0121\n",
            " 989/1875 [==============>...............] - ETA: 3s - loss: 0.0121 - accuracy: 0.9953\n",
            "Epoch 00001: saving model to training_3/ckpt-loss=0.0120\n",
            "1097/1875 [================>.............] - ETA: 2s - loss: 0.0121 - accuracy: 0.9952\n",
            "Epoch 00001: saving model to training_3/ckpt-loss=0.0121\n",
            "1195/1875 [==================>...........] - ETA: 2s - loss: 0.0124 - accuracy: 0.9952\n",
            "Epoch 00001: saving model to training_3/ckpt-loss=0.0123\n",
            "1288/1875 [===================>..........] - ETA: 2s - loss: 0.0123 - accuracy: 0.9953\n",
            "Epoch 00001: saving model to training_3/ckpt-loss=0.0123\n",
            "1389/1875 [=====================>........] - ETA: 1s - loss: 0.0124 - accuracy: 0.9953\n",
            "Epoch 00001: saving model to training_3/ckpt-loss=0.0124\n",
            "1485/1875 [======================>.......] - ETA: 1s - loss: 0.0123 - accuracy: 0.9954\n",
            "Epoch 00001: saving model to training_3/ckpt-loss=0.0123\n",
            "1595/1875 [========================>.....] - ETA: 0s - loss: 0.0123 - accuracy: 0.9954\n",
            "Epoch 00001: saving model to training_3/ckpt-loss=0.0123\n",
            "1699/1875 [==========================>...] - ETA: 0s - loss: 0.0121 - accuracy: 0.9956\n",
            "Epoch 00001: saving model to training_3/ckpt-loss=0.0121\n",
            "1793/1875 [===========================>..] - ETA: 0s - loss: 0.0121 - accuracy: 0.9955\n",
            "Epoch 00001: saving model to training_3/ckpt-loss=0.0121\n",
            "1875/1875 [==============================] - 7s 4ms/step - loss: 0.0119 - accuracy: 0.9956 - val_loss: 0.0837 - val_accuracy: 0.9837\n"
          ],
          "name": "stdout"
        },
        {
          "output_type": "execute_result",
          "data": {
            "text/plain": [
              "<tensorflow.python.keras.callbacks.History at 0x7f013abf7fd0>"
            ]
          },
          "metadata": {
            "tags": []
          },
          "execution_count": 16
        }
      ]
    },
    {
      "cell_type": "code",
      "metadata": {
        "id": "LVfKcG6mq-jd",
        "outputId": "723b30cf-80f2-4092-f053-0e0251221d5e",
        "colab": {
          "base_uri": "https://localhost:8080/"
        }
      },
      "source": [
        "# Saving Best model\n",
        "checkpoint_path_4 = \"training_4/cp-{epoch:04d}.ckpt\"\n",
        "checkpoint_dir_4 = os.path.dirname(checkpoint_path_4)\n",
        "\n",
        "# Create a callback that saves the model's weights\n",
        "checkpoint_callback_4 = tf.keras.callbacks.ModelCheckpoint(\n",
        "   checkpoint_path_4, monitor='val_accuracy', verbose=1, save_weights_only=True,\n",
        "   # Save weights, every epoch.\n",
        "   save_freq='epoch',mode='auto',save_best_only=True)\n",
        "\n",
        "\n",
        "# Train the model\n",
        "model.fit(x_train, y_train, epochs=Epochs,validation_data=(x_test, y_test), callbacks=[checkpoint_callback_4])"
      ],
      "execution_count": 17,
      "outputs": [
        {
          "output_type": "stream",
          "text": [
            "Epoch 1/10\n",
            "1872/1875 [============================>.] - ETA: 0s - loss: 0.0108 - accuracy: 0.9965\n",
            "Epoch 00001: val_accuracy improved from -inf to 0.98200, saving model to training_4/cp-0001.ckpt\n",
            "1875/1875 [==============================] - 7s 4ms/step - loss: 0.0107 - accuracy: 0.9965 - val_loss: 0.1060 - val_accuracy: 0.9820\n",
            "Epoch 2/10\n",
            "1874/1875 [============================>.] - ETA: 0s - loss: 0.0127 - accuracy: 0.9955\n",
            "Epoch 00002: val_accuracy did not improve from 0.98200\n",
            "1875/1875 [==============================] - 7s 4ms/step - loss: 0.0127 - accuracy: 0.9955 - val_loss: 0.1110 - val_accuracy: 0.9811\n",
            "Epoch 3/10\n",
            "1872/1875 [============================>.] - ETA: 0s - loss: 0.0097 - accuracy: 0.9967\n",
            "Epoch 00003: val_accuracy improved from 0.98200 to 0.98250, saving model to training_4/cp-0003.ckpt\n",
            "1875/1875 [==============================] - 7s 4ms/step - loss: 0.0099 - accuracy: 0.9967 - val_loss: 0.1013 - val_accuracy: 0.9825\n",
            "Epoch 4/10\n",
            "1863/1875 [============================>.] - ETA: 0s - loss: 0.0133 - accuracy: 0.9958\n",
            "Epoch 00004: val_accuracy improved from 0.98250 to 0.98550, saving model to training_4/cp-0004.ckpt\n",
            "1875/1875 [==============================] - 6s 3ms/step - loss: 0.0132 - accuracy: 0.9958 - val_loss: 0.0909 - val_accuracy: 0.9855\n",
            "Epoch 5/10\n",
            "1861/1875 [============================>.] - ETA: 0s - loss: 0.0112 - accuracy: 0.9965\n",
            "Epoch 00005: val_accuracy did not improve from 0.98550\n",
            "1875/1875 [==============================] - 6s 3ms/step - loss: 0.0113 - accuracy: 0.9964 - val_loss: 0.0979 - val_accuracy: 0.9827\n",
            "Epoch 6/10\n",
            "1866/1875 [============================>.] - ETA: 0s - loss: 0.0111 - accuracy: 0.9967\n",
            "Epoch 00006: val_accuracy did not improve from 0.98550\n",
            "1875/1875 [==============================] - 6s 3ms/step - loss: 0.0111 - accuracy: 0.9967 - val_loss: 0.1091 - val_accuracy: 0.9845\n",
            "Epoch 7/10\n",
            "1874/1875 [============================>.] - ETA: 0s - loss: 0.0103 - accuracy: 0.9968\n",
            "Epoch 00007: val_accuracy did not improve from 0.98550\n",
            "1875/1875 [==============================] - 6s 3ms/step - loss: 0.0103 - accuracy: 0.9968 - val_loss: 0.1155 - val_accuracy: 0.9822\n",
            "Epoch 8/10\n",
            "1872/1875 [============================>.] - ETA: 0s - loss: 0.0125 - accuracy: 0.9962\n",
            "Epoch 00008: val_accuracy did not improve from 0.98550\n",
            "1875/1875 [==============================] - 6s 3ms/step - loss: 0.0125 - accuracy: 0.9962 - val_loss: 0.1117 - val_accuracy: 0.9820\n",
            "Epoch 9/10\n",
            "1863/1875 [============================>.] - ETA: 0s - loss: 0.0111 - accuracy: 0.9965\n",
            "Epoch 00009: val_accuracy did not improve from 0.98550\n",
            "1875/1875 [==============================] - 6s 3ms/step - loss: 0.0111 - accuracy: 0.9965 - val_loss: 0.1096 - val_accuracy: 0.9838\n",
            "Epoch 10/10\n",
            "1868/1875 [============================>.] - ETA: 0s - loss: 0.0102 - accuracy: 0.9968\n",
            "Epoch 00010: val_accuracy did not improve from 0.98550\n",
            "1875/1875 [==============================] - 7s 4ms/step - loss: 0.0101 - accuracy: 0.9968 - val_loss: 0.1114 - val_accuracy: 0.9835\n"
          ],
          "name": "stdout"
        },
        {
          "output_type": "execute_result",
          "data": {
            "text/plain": [
              "<tensorflow.python.keras.callbacks.History at 0x7f013abc0c88>"
            ]
          },
          "metadata": {
            "tags": []
          },
          "execution_count": 17
        }
      ]
    },
    {
      "cell_type": "code",
      "metadata": {
        "id": "FX-WTuOO-FkW",
        "outputId": "89b56a3d-1f41-48af-b1a2-28cf49654b5f",
        "colab": {
          "base_uri": "https://localhost:8080/"
        }
      },
      "source": [
        "# Saving weights after each epoch (h5 format)\n",
        "checkpoint_path_5 = \"Epoch_{epoch:04d}_weights.h5\"\n",
        "\n",
        "# checkpoint_dir = os.path.dirname(checkpoint_path)\n",
        "checkpoint_callback_5 = tf.keras.callbacks.ModelCheckpoint(\n",
        "   checkpoint_path_5, verbose=1, save_weights_only=True,\n",
        "   # Save weights, every epoch.\n",
        "   save_freq='epoch')\n",
        "\n",
        "# Train the model\n",
        "model.fit(x_train, y_train, epochs=Epochs,validation_data=(x_test, y_test), callbacks=[checkpoint_callback_5])"
      ],
      "execution_count": 23,
      "outputs": [
        {
          "output_type": "stream",
          "text": [
            "Epoch 1/10\n",
            "1872/1875 [============================>.] - ETA: 0s - loss: 0.0087 - accuracy: 0.9980\n",
            "Epoch 00001: saving model to Epoch_0001_weights.h5\n",
            "1875/1875 [==============================] - 6s 3ms/step - loss: 0.0087 - accuracy: 0.9980 - val_loss: 0.1898 - val_accuracy: 0.9825\n",
            "Epoch 2/10\n",
            "1859/1875 [============================>.] - ETA: 0s - loss: 0.0083 - accuracy: 0.9977\n",
            "Epoch 00002: saving model to Epoch_0002_weights.h5\n",
            "1875/1875 [==============================] - 6s 3ms/step - loss: 0.0083 - accuracy: 0.9977 - val_loss: 0.1615 - val_accuracy: 0.9834\n",
            "Epoch 3/10\n",
            "1861/1875 [============================>.] - ETA: 0s - loss: 0.0076 - accuracy: 0.9981\n",
            "Epoch 00003: saving model to Epoch_0003_weights.h5\n",
            "1875/1875 [==============================] - 6s 3ms/step - loss: 0.0075 - accuracy: 0.9981 - val_loss: 0.1632 - val_accuracy: 0.9843\n",
            "Epoch 4/10\n",
            "1869/1875 [============================>.] - ETA: 0s - loss: 0.0065 - accuracy: 0.9981\n",
            "Epoch 00004: saving model to Epoch_0004_weights.h5\n",
            "1875/1875 [==============================] - 6s 3ms/step - loss: 0.0064 - accuracy: 0.9981 - val_loss: 0.1667 - val_accuracy: 0.9838\n",
            "Epoch 5/10\n",
            "1875/1875 [==============================] - ETA: 0s - loss: 0.0074 - accuracy: 0.9984\n",
            "Epoch 00005: saving model to Epoch_0005_weights.h5\n",
            "1875/1875 [==============================] - 6s 3ms/step - loss: 0.0074 - accuracy: 0.9984 - val_loss: 0.1714 - val_accuracy: 0.9843\n",
            "Epoch 6/10\n",
            "1874/1875 [============================>.] - ETA: 0s - loss: 0.0079 - accuracy: 0.9981\n",
            "Epoch 00006: saving model to Epoch_0006_weights.h5\n",
            "1875/1875 [==============================] - 6s 3ms/step - loss: 0.0079 - accuracy: 0.9981 - val_loss: 0.1747 - val_accuracy: 0.9842\n",
            "Epoch 7/10\n",
            "1874/1875 [============================>.] - ETA: 0s - loss: 0.0075 - accuracy: 0.9980\n",
            "Epoch 00007: saving model to Epoch_0007_weights.h5\n",
            "1875/1875 [==============================] - 6s 3ms/step - loss: 0.0075 - accuracy: 0.9980 - val_loss: 0.1565 - val_accuracy: 0.9849\n",
            "Epoch 8/10\n",
            "1867/1875 [============================>.] - ETA: 0s - loss: 0.0088 - accuracy: 0.9980\n",
            "Epoch 00008: saving model to Epoch_0008_weights.h5\n",
            "1875/1875 [==============================] - 6s 3ms/step - loss: 0.0088 - accuracy: 0.9980 - val_loss: 0.1720 - val_accuracy: 0.9842\n",
            "Epoch 9/10\n",
            "1872/1875 [============================>.] - ETA: 0s - loss: 0.0080 - accuracy: 0.9981\n",
            "Epoch 00009: saving model to Epoch_0009_weights.h5\n",
            "1875/1875 [==============================] - 6s 3ms/step - loss: 0.0080 - accuracy: 0.9981 - val_loss: 0.1633 - val_accuracy: 0.9842\n",
            "Epoch 10/10\n",
            "1868/1875 [============================>.] - ETA: 0s - loss: 0.0068 - accuracy: 0.9983\n",
            "Epoch 00010: saving model to Epoch_0010_weights.h5\n",
            "1875/1875 [==============================] - 6s 3ms/step - loss: 0.0068 - accuracy: 0.9983 - val_loss: 0.1755 - val_accuracy: 0.9840\n"
          ],
          "name": "stdout"
        },
        {
          "output_type": "execute_result",
          "data": {
            "text/plain": [
              "<tensorflow.python.keras.callbacks.History at 0x7f013aaffdd8>"
            ]
          },
          "metadata": {
            "tags": []
          },
          "execution_count": 23
        }
      ]
    },
    {
      "cell_type": "code",
      "metadata": {
        "id": "roSyQ6D0Wow9"
      },
      "source": [
        ""
      ],
      "execution_count": 18,
      "outputs": []
    }
  ]
}